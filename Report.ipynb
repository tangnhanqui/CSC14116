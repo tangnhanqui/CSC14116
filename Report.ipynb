{
  "cells": [
    {
      "cell_type": "markdown",
      "source": [
        "# Đồ án cuối kỳ\n",
        "\n",
        "# Lập trình song song ứng dụng\n",
        "\n",
        "# Training a Machine Learning model (Random Forest)\n",
        "\n",
        "\n",
        "\n",
        "*   Link github: https://github.com/tangnhanqui/CSC14116\n",
        "\n"
      ],
      "metadata": {
        "id": "MZ7kcoe-j5TN"
      }
    },
    {
      "cell_type": "markdown",
      "metadata": {
        "id": "EtD7Ft3DX7dH"
      },
      "source": [
        "# Cài đặt thư viện cần thiết"
      ]
    },
    {
      "cell_type": "code",
      "execution_count": null,
      "metadata": {
        "id": "b3ykin0rCFxO"
      },
      "outputs": [],
      "source": [
        "import numpy as np\n",
        "import pandas as pd\n",
        "import time\n",
        "from random import seed\n",
        "from random import randrange\n",
        "from csv import reader\n",
        "from math import sqrt\n",
        "from numba import jit, prange\n",
        "from numba import config\n",
        "import seaborn as sn\n",
        "from sklearn import *\n",
        "from sklearn.ensemble import *\n",
        "from sklearn.datasets import *\n",
        "from sklearn.metrics import *\n",
        "from sklearn.model_selection import *\n",
        "from sklearn.preprocessing import *\n",
        "from sklearn.neural_network import *\n",
        "from sklearn.model_selection import GridSearchCV\n",
        "config.THREADING_LAYER = 'omp'"
      ]
    },
    {
      "cell_type": "code",
      "source": [
        "results = pd.DataFrame(columns=['time (s)'], dtype=float)\n",
        "results # Bảng biểu lưu lại thời gian chạy của tất cả các phiên bản"
      ],
      "metadata": {
        "colab": {
          "base_uri": "https://localhost:8080/",
          "height": 49
        },
        "id": "JDKRWYvbdS5n",
        "outputId": "36476d14-08d7-40c7-f86f-f44743169169"
      },
      "execution_count": null,
      "outputs": [
        {
          "output_type": "execute_result",
          "data": {
            "text/plain": [
              "Empty DataFrame\n",
              "Columns: [time (s)]\n",
              "Index: []"
            ],
            "text/html": [
              "\n",
              "  <div id=\"df-df1428fb-014d-4139-86b2-2e2c73045b5d\">\n",
              "    <div class=\"colab-df-container\">\n",
              "      <div>\n",
              "<style scoped>\n",
              "    .dataframe tbody tr th:only-of-type {\n",
              "        vertical-align: middle;\n",
              "    }\n",
              "\n",
              "    .dataframe tbody tr th {\n",
              "        vertical-align: top;\n",
              "    }\n",
              "\n",
              "    .dataframe thead th {\n",
              "        text-align: right;\n",
              "    }\n",
              "</style>\n",
              "<table border=\"1\" class=\"dataframe\">\n",
              "  <thead>\n",
              "    <tr style=\"text-align: right;\">\n",
              "      <th></th>\n",
              "      <th>time (s)</th>\n",
              "    </tr>\n",
              "  </thead>\n",
              "  <tbody>\n",
              "  </tbody>\n",
              "</table>\n",
              "</div>\n",
              "      <button class=\"colab-df-convert\" onclick=\"convertToInteractive('df-df1428fb-014d-4139-86b2-2e2c73045b5d')\"\n",
              "              title=\"Convert this dataframe to an interactive table.\"\n",
              "              style=\"display:none;\">\n",
              "        \n",
              "  <svg xmlns=\"http://www.w3.org/2000/svg\" height=\"24px\"viewBox=\"0 0 24 24\"\n",
              "       width=\"24px\">\n",
              "    <path d=\"M0 0h24v24H0V0z\" fill=\"none\"/>\n",
              "    <path d=\"M18.56 5.44l.94 2.06.94-2.06 2.06-.94-2.06-.94-.94-2.06-.94 2.06-2.06.94zm-11 1L8.5 8.5l.94-2.06 2.06-.94-2.06-.94L8.5 2.5l-.94 2.06-2.06.94zm10 10l.94 2.06.94-2.06 2.06-.94-2.06-.94-.94-2.06-.94 2.06-2.06.94z\"/><path d=\"M17.41 7.96l-1.37-1.37c-.4-.4-.92-.59-1.43-.59-.52 0-1.04.2-1.43.59L10.3 9.45l-7.72 7.72c-.78.78-.78 2.05 0 2.83L4 21.41c.39.39.9.59 1.41.59.51 0 1.02-.2 1.41-.59l7.78-7.78 2.81-2.81c.8-.78.8-2.07 0-2.86zM5.41 20L4 18.59l7.72-7.72 1.47 1.35L5.41 20z\"/>\n",
              "  </svg>\n",
              "      </button>\n",
              "      \n",
              "  <style>\n",
              "    .colab-df-container {\n",
              "      display:flex;\n",
              "      flex-wrap:wrap;\n",
              "      gap: 12px;\n",
              "    }\n",
              "\n",
              "    .colab-df-convert {\n",
              "      background-color: #E8F0FE;\n",
              "      border: none;\n",
              "      border-radius: 50%;\n",
              "      cursor: pointer;\n",
              "      display: none;\n",
              "      fill: #1967D2;\n",
              "      height: 32px;\n",
              "      padding: 0 0 0 0;\n",
              "      width: 32px;\n",
              "    }\n",
              "\n",
              "    .colab-df-convert:hover {\n",
              "      background-color: #E2EBFA;\n",
              "      box-shadow: 0px 1px 2px rgba(60, 64, 67, 0.3), 0px 1px 3px 1px rgba(60, 64, 67, 0.15);\n",
              "      fill: #174EA6;\n",
              "    }\n",
              "\n",
              "    [theme=dark] .colab-df-convert {\n",
              "      background-color: #3B4455;\n",
              "      fill: #D2E3FC;\n",
              "    }\n",
              "\n",
              "    [theme=dark] .colab-df-convert:hover {\n",
              "      background-color: #434B5C;\n",
              "      box-shadow: 0px 1px 3px 1px rgba(0, 0, 0, 0.15);\n",
              "      filter: drop-shadow(0px 1px 2px rgba(0, 0, 0, 0.3));\n",
              "      fill: #FFFFFF;\n",
              "    }\n",
              "  </style>\n",
              "\n",
              "      <script>\n",
              "        const buttonEl =\n",
              "          document.querySelector('#df-df1428fb-014d-4139-86b2-2e2c73045b5d button.colab-df-convert');\n",
              "        buttonEl.style.display =\n",
              "          google.colab.kernel.accessAllowed ? 'block' : 'none';\n",
              "\n",
              "        async function convertToInteractive(key) {\n",
              "          const element = document.querySelector('#df-df1428fb-014d-4139-86b2-2e2c73045b5d');\n",
              "          const dataTable =\n",
              "            await google.colab.kernel.invokeFunction('convertToInteractive',\n",
              "                                                     [key], {});\n",
              "          if (!dataTable) return;\n",
              "\n",
              "          const docLinkHtml = 'Like what you see? Visit the ' +\n",
              "            '<a target=\"_blank\" href=https://colab.research.google.com/notebooks/data_table.ipynb>data table notebook</a>'\n",
              "            + ' to learn more about interactive tables.';\n",
              "          element.innerHTML = '';\n",
              "          dataTable['output_type'] = 'display_data';\n",
              "          await google.colab.output.renderOutput(dataTable, element);\n",
              "          const docLink = document.createElement('div');\n",
              "          docLink.innerHTML = docLinkHtml;\n",
              "          element.appendChild(docLink);\n",
              "        }\n",
              "      </script>\n",
              "    </div>\n",
              "  </div>\n",
              "  "
            ]
          },
          "metadata": {},
          "execution_count": 5
        }
      ]
    },
    {
      "cell_type": "markdown",
      "source": [
        "#Tổng quan vấn đề\n",
        "* Random forests là một mô hình có nhiều ứng dụng trong thực tế hiện nay, trong nhiều lĩnh vực khác nhau, chẳng hạn như ngân hàng, thị trường tài chính, y học, thương mại điện tử.\n",
        "* Ví dụ, trong lĩnh vực ngân hàng, nó được sử dụng để phát hiện những khách hàng sẽ sử dụng dịch vụ ngân hàng thường xuyên hơn những người khác và trả nợ đúng hạn. Trong lĩnh vực này, nó cũng được sử dụng để phát hiện hành vi gian lận của khách hàng muốn gây hại cho ngân hàng.\n",
        "* Trong lĩnh vực tài chính, nó được sử dụng để xác định hiệu suất trong tương lai của một cổ phiếu.\n",
        "* Trong chăm sóc sức khỏe, nó được sử dụng để xác định sự kết hợp chính xác của các thành phần trong y học và nó cũng được sử dụng để phân tích bệnh sử của bệnh nhân để xác định bệnh tật.\n",
        "* Trong thương mại điện tử, Random Forest được sử dụng để \n",
        "xác định xem khách hàng có thích sản phẩm hay không.\n",
        "* Tuy nhiên, Random forests chậm tạo dự đoán bởi vì nó có nhiều cây quyết định. \n",
        "* Bất cứ khi nào nó đưa ra dự đoán, tất cả các cây trong rừng phải đưa ra dự đoán cho cùng một đầu vào cho trước và sau đó thực hiện bỏ phiếu trên đó. Toàn bộ quá trình này tốn thời gian.\n",
        "* Vì vậy, tối ưu hóa bằng song song là rất cần thiết đối với mô hình Random Forest"
      ],
      "metadata": {
        "id": "0kwt1bLflaqk"
      }
    },
    {
      "cell_type": "markdown",
      "metadata": {
        "id": "pXS-ynZUSVXH"
      },
      "source": [
        "# Tìm hiểu data\n",
        "## Dữ liệu đầu vào đưa vào mô hình\n",
        "\n",
        "* Link Dataset http://archive.ics.uci.edu/ml/datasets/connectionist+bench+(sonar,+mines+vs.+rocks)\n",
        "* Tệp \"sonar.mines\" chứa 111 mẫu thu được bằng cách bật tín hiệu sonar ra khỏi một hình trụ kim loại ở nhiều góc độ khác nhau và trong các điều kiện khác nhau. \n",
        "* Tệp \"sonar.rocks\" chứa 97 mẫu thu được từ đá trong các điều kiện tương tự. Tín hiệu sonar truyền đi là một tiếng kêu được điều chỉnh tần số, tăng tần số. \n",
        "* Tập dữ liệu chứa các tín hiệu thu được từ nhiều góc độ khía cạnh khác nhau, trải dài 90 độ đối với hình trụ và 180 độ đối với đá.\n",
        "* Mỗi mẫu là một tập hợp gồm 60 số trong phạm vi từ 0,0 đến 1,0. Mỗi số đại diện cho năng lượng trong một dải tần số cụ thể, được tích hợp trong một khoảng thời gian nhất định. \n",
        "* Khẩu độ tích hợp cho các tần số cao hơn xảy ra muộn hơn trong thời gian, vì các tần số này được truyền sau đó trong tiếng kêu.\n",
        "* Nhãn liên kết với mỗi bản ghi chứa chữ cái \"R\" nếu đối tượng là một tảng đá và \"M\" nếu đó là mỏ (hình trụ kim loại).\n",
        "![](https://i.imgur.com/zaH8WGi.png)\n",
        "\n",
        "##Source\n",
        "* Bộ dữ liệu được đóng góp vào việc thu thập điểm chuẩn bởi Terry Sejnowski, hiện đang làm việc tại Viện Salk và Đại học California tại San Deigo. \n",
        "* Bộ dữ liệu được phát triển với sự hợp tác của R. Paul Gorman của Trung tâm Công nghệ Hàng không Vũ trụ Allied-Signal.\n"
      ]
    },
    {
      "cell_type": "code",
      "execution_count": null,
      "metadata": {
        "colab": {
          "base_uri": "https://localhost:8080/",
          "height": 488
        },
        "id": "Z5hBh2YJE2Qe",
        "outputId": "19eda836-3997-43de-cb44-6e550534c5ac"
      },
      "outputs": [
        {
          "output_type": "execute_result",
          "data": {
            "text/plain": [
              "     0.0200  0.0371  0.0428  0.0207  0.0954  0.0986  0.1539  0.1601  0.3109  \\\n",
              "0    0.0453  0.0523  0.0843  0.0689  0.1183  0.2583  0.2156  0.3481  0.3337   \n",
              "1    0.0262  0.0582  0.1099  0.1083  0.0974  0.2280  0.2431  0.3771  0.5598   \n",
              "2    0.0100  0.0171  0.0623  0.0205  0.0205  0.0368  0.1098  0.1276  0.0598   \n",
              "3    0.0762  0.0666  0.0481  0.0394  0.0590  0.0649  0.1209  0.2467  0.3564   \n",
              "4    0.0286  0.0453  0.0277  0.0174  0.0384  0.0990  0.1201  0.1833  0.2105   \n",
              "..      ...     ...     ...     ...     ...     ...     ...     ...     ...   \n",
              "202  0.0187  0.0346  0.0168  0.0177  0.0393  0.1630  0.2028  0.1694  0.2328   \n",
              "203  0.0323  0.0101  0.0298  0.0564  0.0760  0.0958  0.0990  0.1018  0.1030   \n",
              "204  0.0522  0.0437  0.0180  0.0292  0.0351  0.1171  0.1257  0.1178  0.1258   \n",
              "205  0.0303  0.0353  0.0490  0.0608  0.0167  0.1354  0.1465  0.1123  0.1945   \n",
              "206  0.0260  0.0363  0.0136  0.0272  0.0214  0.0338  0.0655  0.1400  0.1843   \n",
              "\n",
              "     0.2111  ...  0.0027  0.0065  0.0159  0.0072  0.0167  0.0180  0.0084  \\\n",
              "0    0.2872  ...  0.0084  0.0089  0.0048  0.0094  0.0191  0.0140  0.0049   \n",
              "1    0.6194  ...  0.0232  0.0166  0.0095  0.0180  0.0244  0.0316  0.0164   \n",
              "2    0.1264  ...  0.0121  0.0036  0.0150  0.0085  0.0073  0.0050  0.0044   \n",
              "3    0.4459  ...  0.0031  0.0054  0.0105  0.0110  0.0015  0.0072  0.0048   \n",
              "4    0.3039  ...  0.0045  0.0014  0.0038  0.0013  0.0089  0.0057  0.0027   \n",
              "..      ...  ...     ...     ...     ...     ...     ...     ...     ...   \n",
              "202  0.2684  ...  0.0116  0.0098  0.0199  0.0033  0.0101  0.0065  0.0115   \n",
              "203  0.2154  ...  0.0061  0.0093  0.0135  0.0063  0.0063  0.0034  0.0032   \n",
              "204  0.2529  ...  0.0160  0.0029  0.0051  0.0062  0.0089  0.0140  0.0138   \n",
              "205  0.2354  ...  0.0086  0.0046  0.0126  0.0036  0.0035  0.0034  0.0079   \n",
              "206  0.2354  ...  0.0146  0.0129  0.0047  0.0039  0.0061  0.0040  0.0036   \n",
              "\n",
              "     0.0090  0.0032  R  \n",
              "0    0.0052  0.0044  R  \n",
              "1    0.0095  0.0078  R  \n",
              "2    0.0040  0.0117  R  \n",
              "3    0.0107  0.0094  R  \n",
              "4    0.0051  0.0062  R  \n",
              "..      ...     ... ..  \n",
              "202  0.0193  0.0157  M  \n",
              "203  0.0062  0.0067  M  \n",
              "204  0.0077  0.0031  M  \n",
              "205  0.0036  0.0048  M  \n",
              "206  0.0061  0.0115  M  \n",
              "\n",
              "[207 rows x 61 columns]"
            ],
            "text/html": [
              "\n",
              "  <div id=\"df-50f90744-159f-4495-a39a-7f22b50794f0\">\n",
              "    <div class=\"colab-df-container\">\n",
              "      <div>\n",
              "<style scoped>\n",
              "    .dataframe tbody tr th:only-of-type {\n",
              "        vertical-align: middle;\n",
              "    }\n",
              "\n",
              "    .dataframe tbody tr th {\n",
              "        vertical-align: top;\n",
              "    }\n",
              "\n",
              "    .dataframe thead th {\n",
              "        text-align: right;\n",
              "    }\n",
              "</style>\n",
              "<table border=\"1\" class=\"dataframe\">\n",
              "  <thead>\n",
              "    <tr style=\"text-align: right;\">\n",
              "      <th></th>\n",
              "      <th>0.0200</th>\n",
              "      <th>0.0371</th>\n",
              "      <th>0.0428</th>\n",
              "      <th>0.0207</th>\n",
              "      <th>0.0954</th>\n",
              "      <th>0.0986</th>\n",
              "      <th>0.1539</th>\n",
              "      <th>0.1601</th>\n",
              "      <th>0.3109</th>\n",
              "      <th>0.2111</th>\n",
              "      <th>...</th>\n",
              "      <th>0.0027</th>\n",
              "      <th>0.0065</th>\n",
              "      <th>0.0159</th>\n",
              "      <th>0.0072</th>\n",
              "      <th>0.0167</th>\n",
              "      <th>0.0180</th>\n",
              "      <th>0.0084</th>\n",
              "      <th>0.0090</th>\n",
              "      <th>0.0032</th>\n",
              "      <th>R</th>\n",
              "    </tr>\n",
              "  </thead>\n",
              "  <tbody>\n",
              "    <tr>\n",
              "      <th>0</th>\n",
              "      <td>0.0453</td>\n",
              "      <td>0.0523</td>\n",
              "      <td>0.0843</td>\n",
              "      <td>0.0689</td>\n",
              "      <td>0.1183</td>\n",
              "      <td>0.2583</td>\n",
              "      <td>0.2156</td>\n",
              "      <td>0.3481</td>\n",
              "      <td>0.3337</td>\n",
              "      <td>0.2872</td>\n",
              "      <td>...</td>\n",
              "      <td>0.0084</td>\n",
              "      <td>0.0089</td>\n",
              "      <td>0.0048</td>\n",
              "      <td>0.0094</td>\n",
              "      <td>0.0191</td>\n",
              "      <td>0.0140</td>\n",
              "      <td>0.0049</td>\n",
              "      <td>0.0052</td>\n",
              "      <td>0.0044</td>\n",
              "      <td>R</td>\n",
              "    </tr>\n",
              "    <tr>\n",
              "      <th>1</th>\n",
              "      <td>0.0262</td>\n",
              "      <td>0.0582</td>\n",
              "      <td>0.1099</td>\n",
              "      <td>0.1083</td>\n",
              "      <td>0.0974</td>\n",
              "      <td>0.2280</td>\n",
              "      <td>0.2431</td>\n",
              "      <td>0.3771</td>\n",
              "      <td>0.5598</td>\n",
              "      <td>0.6194</td>\n",
              "      <td>...</td>\n",
              "      <td>0.0232</td>\n",
              "      <td>0.0166</td>\n",
              "      <td>0.0095</td>\n",
              "      <td>0.0180</td>\n",
              "      <td>0.0244</td>\n",
              "      <td>0.0316</td>\n",
              "      <td>0.0164</td>\n",
              "      <td>0.0095</td>\n",
              "      <td>0.0078</td>\n",
              "      <td>R</td>\n",
              "    </tr>\n",
              "    <tr>\n",
              "      <th>2</th>\n",
              "      <td>0.0100</td>\n",
              "      <td>0.0171</td>\n",
              "      <td>0.0623</td>\n",
              "      <td>0.0205</td>\n",
              "      <td>0.0205</td>\n",
              "      <td>0.0368</td>\n",
              "      <td>0.1098</td>\n",
              "      <td>0.1276</td>\n",
              "      <td>0.0598</td>\n",
              "      <td>0.1264</td>\n",
              "      <td>...</td>\n",
              "      <td>0.0121</td>\n",
              "      <td>0.0036</td>\n",
              "      <td>0.0150</td>\n",
              "      <td>0.0085</td>\n",
              "      <td>0.0073</td>\n",
              "      <td>0.0050</td>\n",
              "      <td>0.0044</td>\n",
              "      <td>0.0040</td>\n",
              "      <td>0.0117</td>\n",
              "      <td>R</td>\n",
              "    </tr>\n",
              "    <tr>\n",
              "      <th>3</th>\n",
              "      <td>0.0762</td>\n",
              "      <td>0.0666</td>\n",
              "      <td>0.0481</td>\n",
              "      <td>0.0394</td>\n",
              "      <td>0.0590</td>\n",
              "      <td>0.0649</td>\n",
              "      <td>0.1209</td>\n",
              "      <td>0.2467</td>\n",
              "      <td>0.3564</td>\n",
              "      <td>0.4459</td>\n",
              "      <td>...</td>\n",
              "      <td>0.0031</td>\n",
              "      <td>0.0054</td>\n",
              "      <td>0.0105</td>\n",
              "      <td>0.0110</td>\n",
              "      <td>0.0015</td>\n",
              "      <td>0.0072</td>\n",
              "      <td>0.0048</td>\n",
              "      <td>0.0107</td>\n",
              "      <td>0.0094</td>\n",
              "      <td>R</td>\n",
              "    </tr>\n",
              "    <tr>\n",
              "      <th>4</th>\n",
              "      <td>0.0286</td>\n",
              "      <td>0.0453</td>\n",
              "      <td>0.0277</td>\n",
              "      <td>0.0174</td>\n",
              "      <td>0.0384</td>\n",
              "      <td>0.0990</td>\n",
              "      <td>0.1201</td>\n",
              "      <td>0.1833</td>\n",
              "      <td>0.2105</td>\n",
              "      <td>0.3039</td>\n",
              "      <td>...</td>\n",
              "      <td>0.0045</td>\n",
              "      <td>0.0014</td>\n",
              "      <td>0.0038</td>\n",
              "      <td>0.0013</td>\n",
              "      <td>0.0089</td>\n",
              "      <td>0.0057</td>\n",
              "      <td>0.0027</td>\n",
              "      <td>0.0051</td>\n",
              "      <td>0.0062</td>\n",
              "      <td>R</td>\n",
              "    </tr>\n",
              "    <tr>\n",
              "      <th>...</th>\n",
              "      <td>...</td>\n",
              "      <td>...</td>\n",
              "      <td>...</td>\n",
              "      <td>...</td>\n",
              "      <td>...</td>\n",
              "      <td>...</td>\n",
              "      <td>...</td>\n",
              "      <td>...</td>\n",
              "      <td>...</td>\n",
              "      <td>...</td>\n",
              "      <td>...</td>\n",
              "      <td>...</td>\n",
              "      <td>...</td>\n",
              "      <td>...</td>\n",
              "      <td>...</td>\n",
              "      <td>...</td>\n",
              "      <td>...</td>\n",
              "      <td>...</td>\n",
              "      <td>...</td>\n",
              "      <td>...</td>\n",
              "      <td>...</td>\n",
              "    </tr>\n",
              "    <tr>\n",
              "      <th>202</th>\n",
              "      <td>0.0187</td>\n",
              "      <td>0.0346</td>\n",
              "      <td>0.0168</td>\n",
              "      <td>0.0177</td>\n",
              "      <td>0.0393</td>\n",
              "      <td>0.1630</td>\n",
              "      <td>0.2028</td>\n",
              "      <td>0.1694</td>\n",
              "      <td>0.2328</td>\n",
              "      <td>0.2684</td>\n",
              "      <td>...</td>\n",
              "      <td>0.0116</td>\n",
              "      <td>0.0098</td>\n",
              "      <td>0.0199</td>\n",
              "      <td>0.0033</td>\n",
              "      <td>0.0101</td>\n",
              "      <td>0.0065</td>\n",
              "      <td>0.0115</td>\n",
              "      <td>0.0193</td>\n",
              "      <td>0.0157</td>\n",
              "      <td>M</td>\n",
              "    </tr>\n",
              "    <tr>\n",
              "      <th>203</th>\n",
              "      <td>0.0323</td>\n",
              "      <td>0.0101</td>\n",
              "      <td>0.0298</td>\n",
              "      <td>0.0564</td>\n",
              "      <td>0.0760</td>\n",
              "      <td>0.0958</td>\n",
              "      <td>0.0990</td>\n",
              "      <td>0.1018</td>\n",
              "      <td>0.1030</td>\n",
              "      <td>0.2154</td>\n",
              "      <td>...</td>\n",
              "      <td>0.0061</td>\n",
              "      <td>0.0093</td>\n",
              "      <td>0.0135</td>\n",
              "      <td>0.0063</td>\n",
              "      <td>0.0063</td>\n",
              "      <td>0.0034</td>\n",
              "      <td>0.0032</td>\n",
              "      <td>0.0062</td>\n",
              "      <td>0.0067</td>\n",
              "      <td>M</td>\n",
              "    </tr>\n",
              "    <tr>\n",
              "      <th>204</th>\n",
              "      <td>0.0522</td>\n",
              "      <td>0.0437</td>\n",
              "      <td>0.0180</td>\n",
              "      <td>0.0292</td>\n",
              "      <td>0.0351</td>\n",
              "      <td>0.1171</td>\n",
              "      <td>0.1257</td>\n",
              "      <td>0.1178</td>\n",
              "      <td>0.1258</td>\n",
              "      <td>0.2529</td>\n",
              "      <td>...</td>\n",
              "      <td>0.0160</td>\n",
              "      <td>0.0029</td>\n",
              "      <td>0.0051</td>\n",
              "      <td>0.0062</td>\n",
              "      <td>0.0089</td>\n",
              "      <td>0.0140</td>\n",
              "      <td>0.0138</td>\n",
              "      <td>0.0077</td>\n",
              "      <td>0.0031</td>\n",
              "      <td>M</td>\n",
              "    </tr>\n",
              "    <tr>\n",
              "      <th>205</th>\n",
              "      <td>0.0303</td>\n",
              "      <td>0.0353</td>\n",
              "      <td>0.0490</td>\n",
              "      <td>0.0608</td>\n",
              "      <td>0.0167</td>\n",
              "      <td>0.1354</td>\n",
              "      <td>0.1465</td>\n",
              "      <td>0.1123</td>\n",
              "      <td>0.1945</td>\n",
              "      <td>0.2354</td>\n",
              "      <td>...</td>\n",
              "      <td>0.0086</td>\n",
              "      <td>0.0046</td>\n",
              "      <td>0.0126</td>\n",
              "      <td>0.0036</td>\n",
              "      <td>0.0035</td>\n",
              "      <td>0.0034</td>\n",
              "      <td>0.0079</td>\n",
              "      <td>0.0036</td>\n",
              "      <td>0.0048</td>\n",
              "      <td>M</td>\n",
              "    </tr>\n",
              "    <tr>\n",
              "      <th>206</th>\n",
              "      <td>0.0260</td>\n",
              "      <td>0.0363</td>\n",
              "      <td>0.0136</td>\n",
              "      <td>0.0272</td>\n",
              "      <td>0.0214</td>\n",
              "      <td>0.0338</td>\n",
              "      <td>0.0655</td>\n",
              "      <td>0.1400</td>\n",
              "      <td>0.1843</td>\n",
              "      <td>0.2354</td>\n",
              "      <td>...</td>\n",
              "      <td>0.0146</td>\n",
              "      <td>0.0129</td>\n",
              "      <td>0.0047</td>\n",
              "      <td>0.0039</td>\n",
              "      <td>0.0061</td>\n",
              "      <td>0.0040</td>\n",
              "      <td>0.0036</td>\n",
              "      <td>0.0061</td>\n",
              "      <td>0.0115</td>\n",
              "      <td>M</td>\n",
              "    </tr>\n",
              "  </tbody>\n",
              "</table>\n",
              "<p>207 rows × 61 columns</p>\n",
              "</div>\n",
              "      <button class=\"colab-df-convert\" onclick=\"convertToInteractive('df-50f90744-159f-4495-a39a-7f22b50794f0')\"\n",
              "              title=\"Convert this dataframe to an interactive table.\"\n",
              "              style=\"display:none;\">\n",
              "        \n",
              "  <svg xmlns=\"http://www.w3.org/2000/svg\" height=\"24px\"viewBox=\"0 0 24 24\"\n",
              "       width=\"24px\">\n",
              "    <path d=\"M0 0h24v24H0V0z\" fill=\"none\"/>\n",
              "    <path d=\"M18.56 5.44l.94 2.06.94-2.06 2.06-.94-2.06-.94-.94-2.06-.94 2.06-2.06.94zm-11 1L8.5 8.5l.94-2.06 2.06-.94-2.06-.94L8.5 2.5l-.94 2.06-2.06.94zm10 10l.94 2.06.94-2.06 2.06-.94-2.06-.94-.94-2.06-.94 2.06-2.06.94z\"/><path d=\"M17.41 7.96l-1.37-1.37c-.4-.4-.92-.59-1.43-.59-.52 0-1.04.2-1.43.59L10.3 9.45l-7.72 7.72c-.78.78-.78 2.05 0 2.83L4 21.41c.39.39.9.59 1.41.59.51 0 1.02-.2 1.41-.59l7.78-7.78 2.81-2.81c.8-.78.8-2.07 0-2.86zM5.41 20L4 18.59l7.72-7.72 1.47 1.35L5.41 20z\"/>\n",
              "  </svg>\n",
              "      </button>\n",
              "      \n",
              "  <style>\n",
              "    .colab-df-container {\n",
              "      display:flex;\n",
              "      flex-wrap:wrap;\n",
              "      gap: 12px;\n",
              "    }\n",
              "\n",
              "    .colab-df-convert {\n",
              "      background-color: #E8F0FE;\n",
              "      border: none;\n",
              "      border-radius: 50%;\n",
              "      cursor: pointer;\n",
              "      display: none;\n",
              "      fill: #1967D2;\n",
              "      height: 32px;\n",
              "      padding: 0 0 0 0;\n",
              "      width: 32px;\n",
              "    }\n",
              "\n",
              "    .colab-df-convert:hover {\n",
              "      background-color: #E2EBFA;\n",
              "      box-shadow: 0px 1px 2px rgba(60, 64, 67, 0.3), 0px 1px 3px 1px rgba(60, 64, 67, 0.15);\n",
              "      fill: #174EA6;\n",
              "    }\n",
              "\n",
              "    [theme=dark] .colab-df-convert {\n",
              "      background-color: #3B4455;\n",
              "      fill: #D2E3FC;\n",
              "    }\n",
              "\n",
              "    [theme=dark] .colab-df-convert:hover {\n",
              "      background-color: #434B5C;\n",
              "      box-shadow: 0px 1px 3px 1px rgba(0, 0, 0, 0.15);\n",
              "      filter: drop-shadow(0px 1px 2px rgba(0, 0, 0, 0.3));\n",
              "      fill: #FFFFFF;\n",
              "    }\n",
              "  </style>\n",
              "\n",
              "      <script>\n",
              "        const buttonEl =\n",
              "          document.querySelector('#df-50f90744-159f-4495-a39a-7f22b50794f0 button.colab-df-convert');\n",
              "        buttonEl.style.display =\n",
              "          google.colab.kernel.accessAllowed ? 'block' : 'none';\n",
              "\n",
              "        async function convertToInteractive(key) {\n",
              "          const element = document.querySelector('#df-50f90744-159f-4495-a39a-7f22b50794f0');\n",
              "          const dataTable =\n",
              "            await google.colab.kernel.invokeFunction('convertToInteractive',\n",
              "                                                     [key], {});\n",
              "          if (!dataTable) return;\n",
              "\n",
              "          const docLinkHtml = 'Like what you see? Visit the ' +\n",
              "            '<a target=\"_blank\" href=https://colab.research.google.com/notebooks/data_table.ipynb>data table notebook</a>'\n",
              "            + ' to learn more about interactive tables.';\n",
              "          element.innerHTML = '';\n",
              "          dataTable['output_type'] = 'display_data';\n",
              "          await google.colab.output.renderOutput(dataTable, element);\n",
              "          const docLink = document.createElement('div');\n",
              "          docLink.innerHTML = docLinkHtml;\n",
              "          element.appendChild(docLink);\n",
              "        }\n",
              "      </script>\n",
              "    </div>\n",
              "  </div>\n",
              "  "
            ]
          },
          "metadata": {},
          "execution_count": 6
        }
      ],
      "source": [
        "data = pd.read_csv('/content/sonar.all-data.csv')\n",
        "dataset = data.values\n",
        "data"
      ]
    },
    {
      "cell_type": "markdown",
      "metadata": {
        "id": "gUwbKsUoBAsj"
      },
      "source": [
        "#Tổng quan về thuật toán Random Forest\n",
        "* Thuật toán Random Forest sẽ xây dựng nhiều cây quyết định bằng thuật toán Decision Tree\n",
        "* Tuy nhiên mỗi cây quyết định sẽ khác nhau (có yếu tố random). Sau đó kết quả dự đoán được tổng hợp từ các cây quyết định\n",
        "* Decision Tree là tên đại diện cho một nhóm thuật toán phát triển dựa trên Cây quyết định. Ở đó, mỗi Node của cây sẽ là các thuộc tính, và các nhánh là giá trị lựa chọn của thuộc tính đó. Bằng cách đi theo các giá trị thuộc tính trên cây,\n",
        "Cây quyết định sẽ cho ta biết giá trị dự đoán.\n"
      ]
    },
    {
      "cell_type": "markdown",
      "metadata": {
        "id": "3Q4T8DSzCrZc"
      },
      "source": [
        "##Ưu điểm\n",
        "\n",
        "* Random Forest algorithm có thể sử dụng cho cả bài toán Classification và Regression\n",
        "* Khi Forest có nhiều cây hơn, chúng ta có thể tránh được việc Overfitting với tập dữ liệu"
      ]
    },
    {
      "cell_type": "markdown",
      "metadata": {
        "id": "R_uOU3DRC6UQ"
      },
      "source": [
        "## Cách hoạt động\n",
        "* Chọn các mẫu ngẫu nhiên từ tập dữ liệu đã cho.\n",
        "* Thiết lập cây quyết định cho từng mẫu và nhận kết quả dự đoán từ mỗi quyết định cây.\n",
        "* Hãy bỏ phiếu cho mỗi kết quả dự đoán.\n",
        "* Chọn kết quả được dự đoán nhiều nhất là dự đoán cuối cùng.\n",
        "![](https://i.imgur.com/O5TQ5K6.png)\n"
      ]
    },
    {
      "cell_type": "markdown",
      "metadata": {
        "id": "oGsrIDDPEx7q"
      },
      "source": [
        "## Mã giả tạo ra nhiều cây \n",
        "* Chọn ngẫu nhiên “k” features từ tập “m” features. Chọn ngẫu nhiên số dòng dữ liệu từ dataset.\n",
        "Để ý k << m\n",
        "\n",
        "* Từ tập “k” features, tính toán ra node “d” là tốt nhất cho Node phân loại.\n",
        "\n",
        "* Chia các node con theo node tốt nhất vừa tìm được\n",
        "\n",
        "* Dùng thuật toán Decision Tree tạo cây cho Node tốt nhất.\n",
        "\n",
        "* Lặp lại bước 1-4 để tạo ra “n” cây"
      ]
    },
    {
      "cell_type": "markdown",
      "metadata": {
        "id": "Zhv0ox1tdouj"
      },
      "source": [
        "#Code tuần tự"
      ]
    },
    {
      "cell_type": "markdown",
      "source": [
        "## Hàm load dữ liệu"
      ],
      "metadata": {
        "id": "g1CfiySoq0Dh"
      }
    },
    {
      "cell_type": "code",
      "source": [
        "def load_csv(filename):\n",
        "\tdataset = list()\n",
        "\twith open(filename, 'r') as file:       \n",
        "\t\tcsv_reader = reader(file)      \n",
        "\t\tfor row in csv_reader:\n",
        "\t\t\tif not row:\n",
        "\t\t\t\tcontinue         \n",
        "\t\t\tdataset.append(row)\n",
        "\treturn dataset"
      ],
      "metadata": {
        "id": "MHJoHAGeq9F1"
      },
      "execution_count": null,
      "outputs": []
    },
    {
      "cell_type": "markdown",
      "source": [
        "## Hàm chuyển đổi những dòng string thành float"
      ],
      "metadata": {
        "id": "zpxYx8iyrA0q"
      }
    },
    {
      "cell_type": "code",
      "source": [
        "def str_column_to_float(dataset, column):\n",
        "\tfor row in dataset:\n",
        "\t\trow[column] = float(row[column].strip())"
      ],
      "metadata": {
        "id": "J-0vQyRcrfMW"
      },
      "execution_count": null,
      "outputs": []
    },
    {
      "cell_type": "markdown",
      "source": [
        "## Hàm chuyển đổi cột lable thành int (0 hoặc 1)"
      ],
      "metadata": {
        "id": "7jjaJdKUrk9s"
      }
    },
    {
      "cell_type": "code",
      "source": [
        "def str_column_to_int(dataset, column):\n",
        "    class_values = [row[column] for row in dataset]\n",
        "    unique = set(class_values)\n",
        "    lookup = dict()\n",
        "    for i, value in enumerate(unique):\n",
        "        lookup[value] = i\n",
        "    for row in dataset:\n",
        "        row[column] = lookup[row[column]]\n",
        "    return lookup\n"
      ],
      "metadata": {
        "id": "4or_xKNNr9Yd"
      },
      "execution_count": null,
      "outputs": []
    },
    {
      "cell_type": "markdown",
      "source": [
        "## Hàm tách left,right dựa trên attribute và attribute value"
      ],
      "metadata": {
        "id": "44wWeo_rst4Z"
      }
    },
    {
      "cell_type": "code",
      "source": [
        "def test_split(index, value, dataset):\n",
        "\tleft, right = np.array([dataset[0]]), np.array([dataset[0]])\n",
        "\tfor row in dataset:\n",
        "\t\tif row[index] < value:\n",
        "\t\t\tleft = np.append(left,[row],axis=0)\n",
        "\t\telse: \n",
        "\t\t\tright = np.append(right,[row],axis=0)\n",
        "\treturn left, right"
      ],
      "metadata": {
        "id": "QQMFq-Mdsufx"
      },
      "execution_count": null,
      "outputs": []
    },
    {
      "cell_type": "markdown",
      "source": [
        "##Hàm chia nhỏ data thành các folds để test"
      ],
      "metadata": {
        "id": "8_1MADjNtBNN"
      }
    },
    {
      "cell_type": "code",
      "source": [
        "def cross_validation_split(dataset, n_folds):\n",
        "\tdataset_split = np.array([dataset[0]])\n",
        "\tdataset_copy = np.array(dataset)\n",
        "\tfold_size = int(len(dataset) / n_folds)\n",
        "\tfor i in range(n_folds):\n",
        "\t\tfold = np.array([dataset_copy[0]])\n",
        "\t\twhile len(fold) < fold_size:\n",
        "\t\t\tindex = randrange(len(dataset_copy))\n",
        "\t\t\tfold = np.append(fold,[dataset_copy[index]],axis=0)\n",
        "\t\t\tdataset_copy = np.delete(dataset_copy,index,axis=0)\n",
        "\t\tdataset_split = np.append(dataset_split,fold,axis = 0)\n",
        "\tdataset_split = np.delete(dataset_split,0,axis=0)\n",
        "\tnewDataSet = np.array([dataset_split[0:fold_size]])\n",
        "\tfor i in range(1,n_folds):\n",
        "\t\tnewDataSet = np.append(newDataSet,[dataset_split[fold_size * i: fold_size * (i+1)]],axis=0)\n",
        "\treturn newDataSet"
      ],
      "metadata": {
        "id": "FmAcNgcStNU0"
      },
      "execution_count": null,
      "outputs": []
    },
    {
      "cell_type": "markdown",
      "source": [
        "##Hàm tính toán accuracy"
      ],
      "metadata": {
        "id": "38dZIlgHtPJG"
      }
    },
    {
      "cell_type": "code",
      "source": [
        "def accuracy_metric(actual, predicted):\n",
        "\tcorrect = 0\n",
        "\tfor i in range(len(actual)):\n",
        "\t\tif actual[i] == predicted[i]:\n",
        "\t\t\tcorrect += 1\n",
        "\treturn correct / float(len(actual)) * 100.0"
      ],
      "metadata": {
        "id": "oJWH9arQtYiw"
      },
      "execution_count": null,
      "outputs": []
    },
    {
      "cell_type": "markdown",
      "source": [
        "## Hàm tạo cây"
      ],
      "metadata": {
        "id": "uRsJvbmDOzxx"
      }
    },
    {
      "cell_type": "code",
      "source": [
        "def build_tree(train, max_depth, min_size, n_features):\n",
        "    #Building the tree involves creating the root node and \n",
        "\troot = get_split(train, n_features)\n",
        "    #calling the split() function that then calls itself recursively to build out the whole tree.\n",
        "\tsplit(root, max_depth, min_size, n_features, 1)\n",
        "\treturn root"
      ],
      "metadata": {
        "id": "Milii9RpOyE6"
      },
      "execution_count": null,
      "outputs": []
    },
    {
      "cell_type": "markdown",
      "source": [
        "## Hàm get_split chọn điểm node tốt nhất của data"
      ],
      "metadata": {
        "id": "DmPKkPEXtuh2"
      }
    },
    {
      "cell_type": "code",
      "source": [
        "def get_split(dataset, n_features):\n",
        "\tstart2 = time.time()\n",
        "\tclass_values = np.array([0.0,1.0])\n",
        "\tb_index, b_value, b_score, b_groups = 999, 999, 999, None\n",
        "\tfeatures = np.array(0)\n",
        "\ti = 0\n",
        "\twhile features.size < n_features + 1:\n",
        "\t\tindex = randrange(len(dataset[0])-1)\n",
        "\t\tif index not in features:\n",
        "\t\t\tfeatures = np.append(features, index)\n",
        "\tfeatures = np.delete(features,0, axis=0)\n",
        "\tfor index in features:\n",
        "\t\tfor row in dataset:\n",
        "\t\t\tgroups = test_split(index, row[index], dataset)\n",
        "\t\t\tgini = gini_index(groups, class_values)\n",
        "\t\t\tif gini < b_score:\n",
        "\t\t\t\tb_index, b_value, b_score, b_groups = index, row[index], gini, groups\n",
        "\t\tend= time.time()\n",
        "\treturn {'index':b_index, 'value':b_value, 'groups':b_groups}"
      ],
      "metadata": {
        "id": "UNHDTva_tt4D"
      },
      "execution_count": null,
      "outputs": []
    },
    {
      "cell_type": "markdown",
      "source": [
        "## Hàm split tạo cây khi có node root"
      ],
      "metadata": {
        "id": "_YPooQeFMNWd"
      }
    },
    {
      "cell_type": "code",
      "source": [
        "def split(node, max_depth, min_size, n_features, depth):\n",
        "    #Firstly, the two groups of data split by the node are extracted for use and \n",
        "    #deleted from the node. As we work on these groups the node no longer requires access to these data.\n",
        "\tleft, right = node['groups']\n",
        "\tdel(node['groups'])\n",
        "    \n",
        "    #Next, we check if either left or right group of rows is empty and if so we create \n",
        "    #a terminal node using what records we do have.\n",
        "\t# check for a no split\n",
        "\tif not left.any() or not right.any():\n",
        "\t\tnode['left'] = node['right'] = to_terminal(left + right)\n",
        "\t\treturn\n",
        "    #We then check if we have reached our maximum depth and if so we create a terminal node.\n",
        "\t# check for max depth\n",
        "\tif depth >= max_depth:\n",
        "\t\tnode['left'], node['right'] = to_terminal(left), to_terminal(right)\n",
        "\t\treturn\n",
        "    #We then process the left child, creating a terminal node if the group of rows is too small, \n",
        "    #otherwise creating and adding the left node in a depth first fashion until the bottom of \n",
        "    #the tree is reached on this branch.\n",
        "\t# process left child\n",
        "\tif len(left) <= min_size:\n",
        "\t\tnode['left'] = to_terminal(left)\n",
        "\telse:\n",
        "\t\tnode['left'] = get_split(left, n_features)\n",
        "\t\tsplit(node['left'], max_depth, min_size, n_features, depth+1)\n",
        "\t# process right child\n",
        "    #The right side is then processed in the same manner, \n",
        "    #as we rise back up the constructed tree to the root.\n",
        "\tif len(right) <= min_size:\n",
        "\t\tnode['right'] = to_terminal(right)\n",
        "\telse:\n",
        "\t\tnode['right'] = get_split(right, n_features)\n",
        "\t\tsplit(node['right'], max_depth, min_size, n_features, depth+1)"
      ],
      "metadata": {
        "id": "ypt2RuquMMw-"
      },
      "execution_count": null,
      "outputs": []
    },
    {
      "cell_type": "markdown",
      "source": [
        "## Tạo các random subsample từ dataset (các dòng dữ liệu có thể bị trùng)"
      ],
      "metadata": {
        "id": "hBoqCQ_5Kb-i"
      }
    },
    {
      "cell_type": "code",
      "source": [
        "def subsample(dataset, ratio):\n",
        "\tsample = np.array([dataset[0]])\n",
        "\tn_sample = round(len(dataset) * ratio)\n",
        "\ti = 0\n",
        "\twhile i < n_sample:\n",
        "\t\tindex = randrange(len(dataset))\n",
        "\t\tsample = np.append(sample,[dataset[index]],axis=0)\n",
        "\t\ti+=1 \n",
        "\tsample = np.delete(sample,0, axis=0)\n",
        "\treturn sample"
      ],
      "metadata": {
        "id": "L_u-o3x5KbRa"
      },
      "execution_count": null,
      "outputs": []
    },
    {
      "cell_type": "markdown",
      "source": [
        "## Hàm tính gini index"
      ],
      "metadata": {
        "id": "CwcpFhV6KyUK"
      }
    },
    {
      "cell_type": "code",
      "source": [
        "def gini_index(groups, class_values):\n",
        "\tgini = 0.0\n",
        "    #for each class\n",
        "\tfor class_value in class_values:\n",
        "        #a random subset of that class\n",
        "\t\tfor group in groups:\n",
        "\t\t\tsize = len(group)\n",
        "\t\t\tif size == 0:\n",
        "\t\t\t\tcontinue\n",
        "            #average of all class values\n",
        "\t\t\tproportion = [row[-1] for row in group].count(class_value) / float(size)\n",
        "            #  sum all (p * 1-p) values, this is gini index\n",
        "\t\t\tgini += (proportion * (1.0 - proportion))\n",
        "\treturn gini"
      ],
      "metadata": {
        "id": "v4kAUjOUKxF9"
      },
      "execution_count": null,
      "outputs": []
    },
    {
      "cell_type": "markdown",
      "source": [
        "## Hàm tạo terminal node"
      ],
      "metadata": {
        "id": "NvdyBPDULBNk"
      }
    },
    {
      "cell_type": "code",
      "source": [
        "# Create a terminal node value\n",
        "def to_terminal(group):\n",
        "    #select a class value for a group of rows. \n",
        "\toutcomes = [row[-1] for row in group]\n",
        "    #returns the most common output value in a list of rows.\n",
        "\treturn max(set(outcomes), key=outcomes.count)"
      ],
      "metadata": {
        "id": "rsouoR8oLAMp"
      },
      "execution_count": null,
      "outputs": []
    },
    {
      "cell_type": "code",
      "execution_count": null,
      "metadata": {
        "id": "OB0gYJT8x4VK"
      },
      "outputs": [],
      "source": [
        "# Evaluate an algorithm using a cross validation split\n",
        "def evaluate_algorithm(dataset, algorithm, n_folds, *args):\n",
        "    #folds are the subsamples used to train and validate model\n",
        "\tfolds = cross_validation_split(dataset, n_folds)\n",
        "\tscores = np.array([])\n",
        "\ti = 0\n",
        "    #for each subsample\n",
        "\tfor fold in folds:\n",
        "        #create a copy of the data\n",
        "\t\ttrain_set = np.copy(folds)\n",
        "        #remove the given subsample\n",
        "\t\ttrain_set = np.delete(train_set, i, axis=0)\n",
        "\t\t\n",
        "\t\ttrain_data = np.copy([train_set[0][0]])\n",
        "\t\tfor item in train_set:\n",
        "\t\t\tfor it in item:\n",
        "\t\t\t\ttrain_data = np.append(train_data,[it],axis=0)\n",
        "        #init a test set\n",
        "\t\ttrain_data = np.delete(train_data, 0, axis=0)\n",
        "\t\ttest_set = np.copy([fold[0]])\n",
        "\t\tnewActual = np.array(fold)\n",
        "        #add each row in a given subsample to the test set\n",
        "\t\tfor row in newActual:\n",
        "\t\t\trow_copy = row\n",
        "\t\t\trow_copy[-1] = None\n",
        "\t\t\ttest_set = np.append(test_set,[row_copy],axis=0)\t\n",
        "        #get predicted labls\n",
        "\t\ttest_set = np.delete(test_set, 0 , axis=0)\n",
        "\t\tpredicted = algorithm(train_data, test_set, *args)\n",
        "        #get actual labels\n",
        "\t\tactual = [row[-1] for row in fold]\n",
        "        #compare accuracy\n",
        "\t\taccuracy = accuracy_metric(actual, predicted)\n",
        "        #add it to scores list, for each fold\n",
        "\t\tscores = np.append(scores,accuracy)\n",
        "\t\ti = i + 1\n",
        "    #return all accuracy scores\n",
        "\treturn scores\n",
        " \n",
        "# Make a prediction with a decision tree\n",
        "def predict(node, row):\n",
        "    #Making predictions with a decision tree involves navigating the \n",
        "    #tree with the specifically provided row of data.\n",
        "    #Again, we can implement this using a recursive function, where the same prediction routine is \n",
        "    #called again with the left or the right child nodes, depending on how the split affects the provided data.\n",
        "    #We must check if a child node is either a terminal value to be returned as the prediction\n",
        "    #, or if it is a dictionary node containing another level of the tree to be considered.\n",
        "\tif row[node['index']] < node['value']:\n",
        "\t\tif isinstance(node['left'], dict):\n",
        "\t\t\treturn predict(node['left'], row)\n",
        "\t\telse:\n",
        "\t\t\treturn node['left']\n",
        "\telse:\n",
        "\t\tif isinstance(node['right'], dict):\n",
        "\t\t\treturn predict(node['right'], row)\n",
        "\t\telse:\n",
        "\t\t\treturn node['right']\n",
        " \n",
        "\n",
        "# Test the random forest algorithm\n",
        "def bagging_predict(trees, row):\n",
        "\tpredictions = [predict(tree, row) for tree in trees]\n",
        "\treturn max(set(predictions), key=predictions.count,default=0)\n",
        " \n"
      ]
    },
    {
      "cell_type": "markdown",
      "source": [
        "## Hàm Random Forset tạo nhiều cây"
      ],
      "metadata": {
        "id": "PIUaCVz0PzXy"
      }
    },
    {
      "cell_type": "code",
      "execution_count": null,
      "metadata": {
        "id": "g00ygV2syBKN"
      },
      "outputs": [],
      "source": [
        "@jit\n",
        "def random_forest(train, test, max_depth, min_size, sample_size, n_trees, n_features):\n",
        "\tstartRF = time.time()\n",
        "\ttrees = np.array([])\n",
        "\tfor i in range(n_trees):\n",
        "\t\tsample = subsample(train, sample_size)\n",
        "\t\ttree = build_tree(sample, max_depth, min_size, n_features)\n",
        "\t\ttrees = np.append(trees,tree)\n",
        "\tpredictions = [bagging_predict(trees, row) for row in test]\n",
        "\tendRF = time.time()\n",
        "\treturn(predictions)\n"
      ]
    },
    {
      "cell_type": "code",
      "execution_count": null,
      "metadata": {
        "colab": {
          "base_uri": "https://localhost:8080/"
        },
        "id": "5qHPY6huanub",
        "outputId": "11982de9-830e-4608-aec3-734d66d214a1"
      },
      "outputs": [
        {
          "output_type": "stream",
          "name": "stderr",
          "text": [
            "<ipython-input-20-812213272fe6>:1: NumbaWarning: \n",
            "Compilation is falling back to object mode WITH looplifting enabled because Function \"random_forest\" failed type inference due to: Untyped global name 'subsample': Cannot determine Numba type of <class 'function'>\n",
            "\n",
            "File \"<ipython-input-20-812213272fe6>\", line 6:\n",
            "def random_forest(train, test, max_depth, min_size, sample_size, n_trees, n_features):\n",
            "    <source elided>\n",
            "\tfor i in range(n_trees):\n",
            "\t\tsample = subsample(train, sample_size)\n",
            "  ^\n",
            "\n",
            "  @jit\n",
            "<ipython-input-20-812213272fe6>:1: NumbaWarning: \n",
            "Compilation is falling back to object mode WITHOUT looplifting enabled because Function \"random_forest\" failed type inference due to: Cannot determine Numba type of <class 'numba.core.dispatcher.LiftedLoop'>\n",
            "\n",
            "File \"<ipython-input-20-812213272fe6>\", line 5:\n",
            "def random_forest(train, test, max_depth, min_size, sample_size, n_trees, n_features):\n",
            "    <source elided>\n",
            "\ttrees = np.array([])\n",
            "\tfor i in range(n_trees):\n",
            " ^\n",
            "\n",
            "  @jit\n",
            "/usr/local/lib/python3.7/dist-packages/numba/core/object_mode_passes.py:152: NumbaWarning: Function \"random_forest\" was compiled in object mode without forceobj=True, but has lifted loops.\n",
            "\n",
            "File \"<ipython-input-20-812213272fe6>\", line 3:\n",
            "def random_forest(train, test, max_depth, min_size, sample_size, n_trees, n_features):\n",
            "\tstartRF = time.time()\n",
            " ^\n",
            "\n",
            "  state.func_ir.loc))\n",
            "/usr/local/lib/python3.7/dist-packages/numba/core/object_mode_passes.py:162: NumbaDeprecationWarning: \n",
            "Fall-back from the nopython compilation path to the object mode compilation path has been detected, this is deprecated behaviour.\n",
            "\n",
            "For more information visit https://numba.readthedocs.io/en/stable/reference/deprecation.html#deprecation-of-object-mode-fall-back-behaviour-when-using-jit\n",
            "\n",
            "File \"<ipython-input-20-812213272fe6>\", line 3:\n",
            "def random_forest(train, test, max_depth, min_size, sample_size, n_trees, n_features):\n",
            "\tstartRF = time.time()\n",
            " ^\n",
            "\n",
            "  state.func_ir.loc))\n",
            "<ipython-input-20-812213272fe6>:1: NumbaWarning: \n",
            "Compilation is falling back to object mode WITHOUT looplifting enabled because Function \"random_forest\" failed type inference due to: Untyped global name 'subsample': Cannot determine Numba type of <class 'function'>\n",
            "\n",
            "File \"<ipython-input-20-812213272fe6>\", line 6:\n",
            "def random_forest(train, test, max_depth, min_size, sample_size, n_trees, n_features):\n",
            "    <source elided>\n",
            "\tfor i in range(n_trees):\n",
            "\t\tsample = subsample(train, sample_size)\n",
            "  ^\n",
            "\n",
            "  @jit\n",
            "/usr/local/lib/python3.7/dist-packages/numba/core/object_mode_passes.py:152: NumbaWarning: Function \"random_forest\" was compiled in object mode without forceobj=True.\n",
            "\n",
            "File \"<ipython-input-20-812213272fe6>\", line 5:\n",
            "def random_forest(train, test, max_depth, min_size, sample_size, n_trees, n_features):\n",
            "    <source elided>\n",
            "\ttrees = np.array([])\n",
            "\tfor i in range(n_trees):\n",
            " ^\n",
            "\n",
            "  state.func_ir.loc))\n",
            "/usr/local/lib/python3.7/dist-packages/numba/core/object_mode_passes.py:162: NumbaDeprecationWarning: \n",
            "Fall-back from the nopython compilation path to the object mode compilation path has been detected, this is deprecated behaviour.\n",
            "\n",
            "For more information visit https://numba.readthedocs.io/en/stable/reference/deprecation.html#deprecation-of-object-mode-fall-back-behaviour-when-using-jit\n",
            "\n",
            "File \"<ipython-input-20-812213272fe6>\", line 5:\n",
            "def random_forest(train, test, max_depth, min_size, sample_size, n_trees, n_features):\n",
            "    <source elided>\n",
            "\ttrees = np.array([])\n",
            "\tfor i in range(n_trees):\n",
            " ^\n",
            "\n",
            "  state.func_ir.loc))\n"
          ]
        },
        {
          "output_type": "stream",
          "name": "stdout",
          "text": [
            "Trees: 3\n",
            "Scores: [40. 60. 50. 30. 50. 45. 30. 50. 80. 60.]\n",
            "Mean Accuracy: 49.500%\n"
          ]
        }
      ],
      "source": [
        "seed(1)\n",
        "# load and prepare datad\n",
        "filename = 'sonar.all-data.csv'\n",
        "dataset = load_csv(\"/content/sonar.all-data.csv\")\n",
        "# convert string attributes to integers\n",
        "for i in range(0, len(dataset[0])-1):\n",
        "\tstr_column_to_float(dataset, i)\n",
        "# convert class column to integers\n",
        "str_column_to_int(dataset, len(dataset[0])-1)\n",
        "# evaluate algorithm\n",
        "n_folds = 10\n",
        "max_depth = 10\n",
        "min_size = 1\n",
        "sample_size = 1.0\n",
        "n_features = int(sqrt(len(dataset[0])-1))\n",
        "start = time.time()\n",
        "for n_trees in [3]:\n",
        "\tscores = evaluate_algorithm(dataset, random_forest, n_folds, max_depth, min_size, sample_size, n_trees, n_features)\n",
        "\tprint('Trees: %d' % n_trees)\n",
        "\tprint('Scores: %s' % scores)\n",
        "\tprint('Mean Accuracy: %.3f%%' % (sum(scores)/float(len(scores))))  \n",
        "end = time.time()\n"
      ]
    },
    {
      "cell_type": "code",
      "source": [
        "time = end - start\n",
        "results.loc['Tổng thời gian Code Tuần Tự', 'time (s)'] = time\n",
        "results"
      ],
      "metadata": {
        "colab": {
          "base_uri": "https://localhost:8080/",
          "height": 81
        },
        "id": "ZZFCyHB1gU8R",
        "outputId": "f8afb92d-abeb-47bc-c26e-7ca174602543"
      },
      "execution_count": null,
      "outputs": [
        {
          "output_type": "execute_result",
          "data": {
            "text/plain": [
              "                               time (s)\n",
              "Tổng thời gian Code Tuần Tự  357.123594"
            ],
            "text/html": [
              "\n",
              "  <div id=\"df-1eb862a0-2514-446a-8bcd-75411c793351\">\n",
              "    <div class=\"colab-df-container\">\n",
              "      <div>\n",
              "<style scoped>\n",
              "    .dataframe tbody tr th:only-of-type {\n",
              "        vertical-align: middle;\n",
              "    }\n",
              "\n",
              "    .dataframe tbody tr th {\n",
              "        vertical-align: top;\n",
              "    }\n",
              "\n",
              "    .dataframe thead th {\n",
              "        text-align: right;\n",
              "    }\n",
              "</style>\n",
              "<table border=\"1\" class=\"dataframe\">\n",
              "  <thead>\n",
              "    <tr style=\"text-align: right;\">\n",
              "      <th></th>\n",
              "      <th>time (s)</th>\n",
              "    </tr>\n",
              "  </thead>\n",
              "  <tbody>\n",
              "    <tr>\n",
              "      <th>Tổng thời gian Code Tuần Tự</th>\n",
              "      <td>357.123594</td>\n",
              "    </tr>\n",
              "  </tbody>\n",
              "</table>\n",
              "</div>\n",
              "      <button class=\"colab-df-convert\" onclick=\"convertToInteractive('df-1eb862a0-2514-446a-8bcd-75411c793351')\"\n",
              "              title=\"Convert this dataframe to an interactive table.\"\n",
              "              style=\"display:none;\">\n",
              "        \n",
              "  <svg xmlns=\"http://www.w3.org/2000/svg\" height=\"24px\"viewBox=\"0 0 24 24\"\n",
              "       width=\"24px\">\n",
              "    <path d=\"M0 0h24v24H0V0z\" fill=\"none\"/>\n",
              "    <path d=\"M18.56 5.44l.94 2.06.94-2.06 2.06-.94-2.06-.94-.94-2.06-.94 2.06-2.06.94zm-11 1L8.5 8.5l.94-2.06 2.06-.94-2.06-.94L8.5 2.5l-.94 2.06-2.06.94zm10 10l.94 2.06.94-2.06 2.06-.94-2.06-.94-.94-2.06-.94 2.06-2.06.94z\"/><path d=\"M17.41 7.96l-1.37-1.37c-.4-.4-.92-.59-1.43-.59-.52 0-1.04.2-1.43.59L10.3 9.45l-7.72 7.72c-.78.78-.78 2.05 0 2.83L4 21.41c.39.39.9.59 1.41.59.51 0 1.02-.2 1.41-.59l7.78-7.78 2.81-2.81c.8-.78.8-2.07 0-2.86zM5.41 20L4 18.59l7.72-7.72 1.47 1.35L5.41 20z\"/>\n",
              "  </svg>\n",
              "      </button>\n",
              "      \n",
              "  <style>\n",
              "    .colab-df-container {\n",
              "      display:flex;\n",
              "      flex-wrap:wrap;\n",
              "      gap: 12px;\n",
              "    }\n",
              "\n",
              "    .colab-df-convert {\n",
              "      background-color: #E8F0FE;\n",
              "      border: none;\n",
              "      border-radius: 50%;\n",
              "      cursor: pointer;\n",
              "      display: none;\n",
              "      fill: #1967D2;\n",
              "      height: 32px;\n",
              "      padding: 0 0 0 0;\n",
              "      width: 32px;\n",
              "    }\n",
              "\n",
              "    .colab-df-convert:hover {\n",
              "      background-color: #E2EBFA;\n",
              "      box-shadow: 0px 1px 2px rgba(60, 64, 67, 0.3), 0px 1px 3px 1px rgba(60, 64, 67, 0.15);\n",
              "      fill: #174EA6;\n",
              "    }\n",
              "\n",
              "    [theme=dark] .colab-df-convert {\n",
              "      background-color: #3B4455;\n",
              "      fill: #D2E3FC;\n",
              "    }\n",
              "\n",
              "    [theme=dark] .colab-df-convert:hover {\n",
              "      background-color: #434B5C;\n",
              "      box-shadow: 0px 1px 3px 1px rgba(0, 0, 0, 0.15);\n",
              "      filter: drop-shadow(0px 1px 2px rgba(0, 0, 0, 0.3));\n",
              "      fill: #FFFFFF;\n",
              "    }\n",
              "  </style>\n",
              "\n",
              "      <script>\n",
              "        const buttonEl =\n",
              "          document.querySelector('#df-1eb862a0-2514-446a-8bcd-75411c793351 button.colab-df-convert');\n",
              "        buttonEl.style.display =\n",
              "          google.colab.kernel.accessAllowed ? 'block' : 'none';\n",
              "\n",
              "        async function convertToInteractive(key) {\n",
              "          const element = document.querySelector('#df-1eb862a0-2514-446a-8bcd-75411c793351');\n",
              "          const dataTable =\n",
              "            await google.colab.kernel.invokeFunction('convertToInteractive',\n",
              "                                                     [key], {});\n",
              "          if (!dataTable) return;\n",
              "\n",
              "          const docLinkHtml = 'Like what you see? Visit the ' +\n",
              "            '<a target=\"_blank\" href=https://colab.research.google.com/notebooks/data_table.ipynb>data table notebook</a>'\n",
              "            + ' to learn more about interactive tables.';\n",
              "          element.innerHTML = '';\n",
              "          dataTable['output_type'] = 'display_data';\n",
              "          await google.colab.output.renderOutput(dataTable, element);\n",
              "          const docLink = document.createElement('div');\n",
              "          docLink.innerHTML = docLinkHtml;\n",
              "          element.appendChild(docLink);\n",
              "        }\n",
              "      </script>\n",
              "    </div>\n",
              "  </div>\n",
              "  "
            ]
          },
          "metadata": {},
          "execution_count": 22
        }
      ]
    },
    {
      "cell_type": "markdown",
      "metadata": {
        "id": "OUB1cB2wSiZK"
      },
      "source": [
        "##Tính đúng đắn Code Tuần Tự"
      ]
    },
    {
      "cell_type": "code",
      "execution_count": null,
      "metadata": {
        "id": "YAaucJzMU-k9"
      },
      "outputs": [],
      "source": [
        "df = pd.read_csv(\"sonar.all-data.csv\" )\n",
        "df[\"R\"].value_counts()\n",
        "repl = {\"R\": {\"M\": 1, \"R\": 0 }}\n",
        "df_new = df.replace(repl)\n",
        "df1 = df_new.drop(df.columns[len(df.columns)-1], axis=1)"
      ]
    },
    {
      "cell_type": "code",
      "execution_count": null,
      "metadata": {
        "colab": {
          "base_uri": "https://localhost:8080/"
        },
        "id": "6SVBlFRUVPi9",
        "outputId": "a7f1ce8f-eca7-455e-a150-57c331109bbd"
      },
      "outputs": [
        {
          "output_type": "stream",
          "name": "stdout",
          "text": [
            "     0.0200  0.0371  0.0428  0.0207  0.0954  0.0986  0.1539  0.1601  0.3109  \\\n",
            "0    0.0453  0.0523  0.0843  0.0689  0.1183  0.2583  0.2156  0.3481  0.3337   \n",
            "1    0.0262  0.0582  0.1099  0.1083  0.0974  0.2280  0.2431  0.3771  0.5598   \n",
            "2    0.0100  0.0171  0.0623  0.0205  0.0205  0.0368  0.1098  0.1276  0.0598   \n",
            "3    0.0762  0.0666  0.0481  0.0394  0.0590  0.0649  0.1209  0.2467  0.3564   \n",
            "4    0.0286  0.0453  0.0277  0.0174  0.0384  0.0990  0.1201  0.1833  0.2105   \n",
            "..      ...     ...     ...     ...     ...     ...     ...     ...     ...   \n",
            "202  0.0187  0.0346  0.0168  0.0177  0.0393  0.1630  0.2028  0.1694  0.2328   \n",
            "203  0.0323  0.0101  0.0298  0.0564  0.0760  0.0958  0.0990  0.1018  0.1030   \n",
            "204  0.0522  0.0437  0.0180  0.0292  0.0351  0.1171  0.1257  0.1178  0.1258   \n",
            "205  0.0303  0.0353  0.0490  0.0608  0.0167  0.1354  0.1465  0.1123  0.1945   \n",
            "206  0.0260  0.0363  0.0136  0.0272  0.0214  0.0338  0.0655  0.1400  0.1843   \n",
            "\n",
            "     0.2111  ...  0.0232  0.0027  0.0065  0.0159  0.0072  0.0167  0.0180  \\\n",
            "0    0.2872  ...  0.0125  0.0084  0.0089  0.0048  0.0094  0.0191  0.0140   \n",
            "1    0.6194  ...  0.0033  0.0232  0.0166  0.0095  0.0180  0.0244  0.0316   \n",
            "2    0.1264  ...  0.0241  0.0121  0.0036  0.0150  0.0085  0.0073  0.0050   \n",
            "3    0.4459  ...  0.0156  0.0031  0.0054  0.0105  0.0110  0.0015  0.0072   \n",
            "4    0.3039  ...  0.0104  0.0045  0.0014  0.0038  0.0013  0.0089  0.0057   \n",
            "..      ...  ...     ...     ...     ...     ...     ...     ...     ...   \n",
            "202  0.2684  ...  0.0203  0.0116  0.0098  0.0199  0.0033  0.0101  0.0065   \n",
            "203  0.2154  ...  0.0051  0.0061  0.0093  0.0135  0.0063  0.0063  0.0034   \n",
            "204  0.2529  ...  0.0155  0.0160  0.0029  0.0051  0.0062  0.0089  0.0140   \n",
            "205  0.2354  ...  0.0042  0.0086  0.0046  0.0126  0.0036  0.0035  0.0034   \n",
            "206  0.2354  ...  0.0181  0.0146  0.0129  0.0047  0.0039  0.0061  0.0040   \n",
            "\n",
            "     0.0084  0.0090  0.0032  \n",
            "0    0.0049  0.0052  0.0044  \n",
            "1    0.0164  0.0095  0.0078  \n",
            "2    0.0044  0.0040  0.0117  \n",
            "3    0.0048  0.0107  0.0094  \n",
            "4    0.0027  0.0051  0.0062  \n",
            "..      ...     ...     ...  \n",
            "202  0.0115  0.0193  0.0157  \n",
            "203  0.0032  0.0062  0.0067  \n",
            "204  0.0138  0.0077  0.0031  \n",
            "205  0.0079  0.0036  0.0048  \n",
            "206  0.0036  0.0061  0.0115  \n",
            "\n",
            "[207 rows x 60 columns]\n",
            "[0, 0, 0, 0, 0, 0, 0, 0, 0, 0, 0, 0, 0, 0, 0, 0, 0, 0, 0, 0, 0, 0, 0, 0, 0, 0, 0, 0, 0, 0, 0, 0, 0, 0, 0, 0, 0, 0, 0, 0, 0, 0, 0, 0, 0, 0, 0, 0, 0, 0, 0, 0, 0, 0, 0, 0, 0, 0, 0, 0, 0, 0, 0, 0, 0, 0, 0, 0, 0, 0, 0, 0, 0, 0, 0, 0, 0, 0, 0, 0, 0, 0, 0, 0, 0, 0, 0, 0, 0, 0, 0, 0, 0, 0, 0, 0, 1, 1, 1, 1, 1, 1, 1, 1, 1, 1, 1, 1, 1, 1, 1, 1, 1, 1, 1, 1, 1, 1, 1, 1, 1, 1, 1, 1, 1, 1, 1, 1, 1, 1, 1, 1, 1, 1, 1, 1, 1, 1, 1, 1, 1, 1, 1, 1, 1, 1, 1, 1, 1, 1, 1, 1, 1, 1, 1, 1, 1, 1, 1, 1, 1, 1, 1, 1, 1, 1, 1, 1, 1, 1, 1, 1, 1, 1, 1, 1, 1, 1, 1, 1, 1, 1, 1, 1, 1, 1, 1, 1, 1, 1, 1, 1, 1, 1, 1, 1, 1, 1, 1, 1, 1, 1, 1, 1, 1, 1, 1]\n"
          ]
        }
      ],
      "source": [
        "X = df1\n",
        "print(X)\n",
        "Y = df_new[\"R\"].tolist()\n",
        "print(Y)\n",
        "X_train,X_test,y_train,y_test = train_test_split(X,Y,test_size=0.2, random_state=63)"
      ]
    },
    {
      "cell_type": "code",
      "execution_count": null,
      "metadata": {
        "colab": {
          "base_uri": "https://localhost:8080/"
        },
        "id": "VfVH2hy8VWfd",
        "outputId": "573fef85-beac-43c6-ea49-3858242da912"
      },
      "outputs": [
        {
          "output_type": "stream",
          "name": "stdout",
          "text": [
            "[0.19047619 0.66666667 0.71428571 0.61904762 0.42857143 0.33333333\n",
            " 0.57142857 0.5        0.8        0.8       ]\n",
            "0.5623809523809523\n"
          ]
        }
      ],
      "source": [
        "kf = KFold(n_splits=10)\n",
        "kf.get_n_splits(X)\n",
        "accuracy = []\n",
        "clf1 = RandomForestClassifier(n_estimators=5,max_depth=10)\n",
        "scores = cross_val_score(clf1, X, Y, cv=kf)\n",
        "avg_score = np.mean(scores)\n",
        "print(scores)\n",
        "print(avg_score)"
      ]
    },
    {
      "cell_type": "markdown",
      "metadata": {
        "id": "BVyVClqGVaUJ"
      },
      "source": [
        "## Nhận xét:\n",
        "* So với kết quả với thư viện RandomForestClassifier tính đúng đắn ổn."
      ]
    },
    {
      "cell_type": "markdown",
      "metadata": {
        "id": "tn-YQhkQWd5V"
      },
      "source": [
        "##Thiết kế:\n",
        "* Build Grow(tree):\n",
        "* Đối với tất cả dữ liệu trong node này, hãy tìm điểm node tốt nhất ( Parallel)\n",
        "* Tạo con bên trái và con bên phải bằng cách chia nhỏ dữ liệu tại điểm phân tách (Parallel)\n",
        "* Nếu left child không phải terminal, grow left child\n",
        "* Nếu right child không phải terminal, grow right child"
      ]
    },
    {
      "cell_type": "markdown",
      "metadata": {
        "id": "veqvR4BUeFe6"
      },
      "source": [
        "#Nguồn tham khảo code tuần tự:\n",
        "https://github.com/llSourcell/random_forests"
      ]
    }
  ],
  "metadata": {
    "colab": {
      "collapsed_sections": [],
      "name": "BaoCao.ipynb",
      "provenance": [],
      "toc_visible": true
    },
    "kernelspec": {
      "display_name": "Python 3",
      "name": "python3"
    },
    "language_info": {
      "name": "python"
    }
  },
  "nbformat": 4,
  "nbformat_minor": 0
}